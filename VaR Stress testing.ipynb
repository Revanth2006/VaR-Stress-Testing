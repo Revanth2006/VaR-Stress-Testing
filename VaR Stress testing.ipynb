# Value at Risk (VaR) and Stress Testing on a Mock Portfolio
# Author: Revanth | Prepared as a complete project for resume/GitHub

# ----------------------------
# 📦 Imports & Setup
# ----------------------------
import numpy as np
import pandas as pd
import yfinance as yf
import matplotlib.pyplot as plt
import seaborn as sns

plt.style.use('seaborn')
sns.set(font_scale=1.1)

# ----------------------------
# 📊 Step 1: Download Historical Prices
# ----------------------------
tickers = ['AAPL', 'MSFT', 'TLT']
data = yf.download(tickers, start="2023-04-01", end="2024-04-01")['Adj Close']
data.dropna(inplace=True)

# ----------------------------
# 📈 Step 2: Calculate Log Returns
# ----------------------------
log_returns = np.log(data / data.shift(1)).dropna()

# ----------------------------
# 💼 Step 3: Define Portfolio
# ----------------------------
weights = np.array([0.4, 0.4, 0.2])  # AAPL, MSFT, TLT
portfolio_value = 1_000_000  # $1 million

# Portfolio daily returns
portfolio_returns = log_returns.dot(weights)

# ----------------------------
# ⚠️ Step 4: Calculate VaR (95%)
# ----------------------------
confidence_level = 0.95
z_score = 1.65  # For 95% confidence
mean_return = portfolio_returns.mean()
volatility = portfolio_returns.std()

# Parametric VaR
parametric_var = z_score * volatility * portfolio_value

# Historical VaR
hist_var = np.percentile(portfolio_returns, (1 - confidence_level) * 100) * portfolio_value

# Monte Carlo Simulation
simulated_returns = np.random.normal(mean_return, volatility, 10000)
mc_var = np.percentile(simulated_returns, (1 - confidence_level) * 100) * portfolio_value

# ----------------------------
# 🌪️ Step 5: Stress Testing (COVID Crash)
# ----------------------------
stress_data = yf.download(tickers, start="2020-03-01", end="2020-03-31")['Adj Close']
stress_returns = np.log(stress_data / stress_data.shift(1)).dropna()
cumulative_returns = stress_returns.sum()

stress_loss_pct = np.dot(cumulative_returns.values, weights)
stress_loss_amount = stress_loss_pct * portfolio_value

# ----------------------------
# 📊 Step 6: Visualizations
# ----------------------------
plt.figure(figsize=(10, 6))
sns.histplot(portfolio_returns, bins=50, kde=True, color='skyblue')
plt.axvline(x=np.percentile(portfolio_returns, 5), color='red', linestyle='--', label='95% Historical VaR')
plt.title('Portfolio Daily Returns Distribution')
plt.xlabel('Daily Log Return')
plt.ylabel('Frequency')
plt.legend()
plt.tight_layout()
plt.show()

# Bar chart of different VaRs
plt.figure(figsize=(8, 5))
methods = ['Parametric', 'Historical', 'Monte Carlo', 'COVID Stress']
values = [-parametric_var, -hist_var, -mc_var, -stress_loss_amount]
sns.barplot(x=methods, y=values, palette='Set2')
plt.title('Comparison of Portfolio Risk Estimates')
plt.ylabel('Loss ($)')
plt.tight_layout()
plt.show()

# ----------------------------
# 📄 Step 7: Final Report (Print Summary)
# ----------------------------
print("""
================ Portfolio Risk Report ================
Portfolio: $1,000,000
Assets: AAPL (40%), MSFT (40%), TLT (20%)
Period: Apr 2023 – Apr 2024 (Daily Data)
Confidence Level: 95%

>> Value at Risk (VaR):
Parametric VaR        : ${:,.2f}
Historical VaR        : ${:,.2f}
Monte Carlo VaR       : ${:,.2f}

>> Stress Test Scenario:
COVID-19 March 2020 Loss: ${:,.2f}
=======================================================
""".format(parametric_var, -hist_var, -mc_var, -stress_loss_amount))
